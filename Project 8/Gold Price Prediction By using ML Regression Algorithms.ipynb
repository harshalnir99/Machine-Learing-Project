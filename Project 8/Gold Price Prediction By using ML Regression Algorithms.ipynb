{
 "cells": [
  {
   "cell_type": "markdown",
   "id": "571377c0",
   "metadata": {},
   "source": [
    "# Gold Price Prediction By using ML Regression Algorithms"
   ]
  },
  {
   "cell_type": "code",
   "execution_count": null,
   "id": "e94be956",
   "metadata": {},
   "outputs": [],
   "source": []
  },
  {
   "cell_type": "code",
   "execution_count": 1,
   "id": "aac277e1",
   "metadata": {},
   "outputs": [],
   "source": [
    "# Import required libraries\n",
    "\n",
    "import pandas as pd\n",
    "import numpy as np\n",
    "import matplotlib.pyplot as plt\n",
    "import seaborn as sns\n",
    "\n",
    "import warnings\n",
    "warnings.filterwarnings('ignore')"
   ]
  },
  {
   "cell_type": "code",
   "execution_count": null,
   "id": "7f47c485",
   "metadata": {},
   "outputs": [],
   "source": []
  },
  {
   "cell_type": "code",
   "execution_count": 2,
   "id": "6c0ac5fc",
   "metadata": {},
   "outputs": [],
   "source": [
    "# Data Collection & Data Anlayis\n",
    "\n",
    "dataset = pd.read_csv(\"gold_price_data.csv\")"
   ]
  },
  {
   "cell_type": "code",
   "execution_count": 3,
   "id": "a1f6d8db",
   "metadata": {},
   "outputs": [
    {
     "data": {
      "text/html": [
       "<div>\n",
       "<style scoped>\n",
       "    .dataframe tbody tr th:only-of-type {\n",
       "        vertical-align: middle;\n",
       "    }\n",
       "\n",
       "    .dataframe tbody tr th {\n",
       "        vertical-align: top;\n",
       "    }\n",
       "\n",
       "    .dataframe thead th {\n",
       "        text-align: right;\n",
       "    }\n",
       "</style>\n",
       "<table border=\"1\" class=\"dataframe\">\n",
       "  <thead>\n",
       "    <tr style=\"text-align: right;\">\n",
       "      <th></th>\n",
       "      <th>Date</th>\n",
       "      <th>SPX</th>\n",
       "      <th>GLD</th>\n",
       "      <th>USO</th>\n",
       "      <th>SLV</th>\n",
       "      <th>EUR/USD</th>\n",
       "    </tr>\n",
       "  </thead>\n",
       "  <tbody>\n",
       "    <tr>\n",
       "      <th>0</th>\n",
       "      <td>1/2/2008</td>\n",
       "      <td>1447.160034</td>\n",
       "      <td>84.860001</td>\n",
       "      <td>78.470001</td>\n",
       "      <td>15.180</td>\n",
       "      <td>1.471692</td>\n",
       "    </tr>\n",
       "    <tr>\n",
       "      <th>1</th>\n",
       "      <td>1/3/2008</td>\n",
       "      <td>1447.160034</td>\n",
       "      <td>85.570000</td>\n",
       "      <td>78.370003</td>\n",
       "      <td>15.285</td>\n",
       "      <td>1.474491</td>\n",
       "    </tr>\n",
       "    <tr>\n",
       "      <th>2</th>\n",
       "      <td>1/4/2008</td>\n",
       "      <td>1411.630005</td>\n",
       "      <td>85.129997</td>\n",
       "      <td>77.309998</td>\n",
       "      <td>15.167</td>\n",
       "      <td>1.475492</td>\n",
       "    </tr>\n",
       "    <tr>\n",
       "      <th>3</th>\n",
       "      <td>1/7/2008</td>\n",
       "      <td>1416.180054</td>\n",
       "      <td>84.769997</td>\n",
       "      <td>75.500000</td>\n",
       "      <td>15.053</td>\n",
       "      <td>1.468299</td>\n",
       "    </tr>\n",
       "    <tr>\n",
       "      <th>4</th>\n",
       "      <td>1/8/2008</td>\n",
       "      <td>1390.189941</td>\n",
       "      <td>86.779999</td>\n",
       "      <td>76.059998</td>\n",
       "      <td>15.590</td>\n",
       "      <td>1.557099</td>\n",
       "    </tr>\n",
       "  </tbody>\n",
       "</table>\n",
       "</div>"
      ],
      "text/plain": [
       "       Date          SPX        GLD        USO     SLV   EUR/USD\n",
       "0  1/2/2008  1447.160034  84.860001  78.470001  15.180  1.471692\n",
       "1  1/3/2008  1447.160034  85.570000  78.370003  15.285  1.474491\n",
       "2  1/4/2008  1411.630005  85.129997  77.309998  15.167  1.475492\n",
       "3  1/7/2008  1416.180054  84.769997  75.500000  15.053  1.468299\n",
       "4  1/8/2008  1390.189941  86.779999  76.059998  15.590  1.557099"
      ]
     },
     "execution_count": 3,
     "metadata": {},
     "output_type": "execute_result"
    }
   ],
   "source": [
    "# to check first five records\n",
    "dataset.head()"
   ]
  },
  {
   "cell_type": "code",
   "execution_count": 4,
   "id": "a0ff3bfc",
   "metadata": {},
   "outputs": [
    {
     "data": {
      "text/plain": [
       "(2290, 6)"
      ]
     },
     "execution_count": 4,
     "metadata": {},
     "output_type": "execute_result"
    }
   ],
   "source": [
    "# To check Shape of data\n",
    "\n",
    "dataset.shape"
   ]
  },
  {
   "cell_type": "code",
   "execution_count": 5,
   "id": "0adba32b",
   "metadata": {},
   "outputs": [
    {
     "name": "stdout",
     "output_type": "stream",
     "text": [
      "<class 'pandas.core.frame.DataFrame'>\n",
      "RangeIndex: 2290 entries, 0 to 2289\n",
      "Data columns (total 6 columns):\n",
      " #   Column   Non-Null Count  Dtype  \n",
      "---  ------   --------------  -----  \n",
      " 0   Date     2290 non-null   object \n",
      " 1   SPX      2290 non-null   float64\n",
      " 2   GLD      2290 non-null   float64\n",
      " 3   USO      2290 non-null   float64\n",
      " 4   SLV      2290 non-null   float64\n",
      " 5   EUR/USD  2290 non-null   float64\n",
      "dtypes: float64(5), object(1)\n",
      "memory usage: 107.5+ KB\n"
     ]
    }
   ],
   "source": [
    "# To check data type of dataset\n",
    "\n",
    "dataset.info()"
   ]
  },
  {
   "cell_type": "code",
   "execution_count": 6,
   "id": "e13b73fc",
   "metadata": {},
   "outputs": [
    {
     "data": {
      "text/plain": [
       "Date       0\n",
       "SPX        0\n",
       "GLD        0\n",
       "USO        0\n",
       "SLV        0\n",
       "EUR/USD    0\n",
       "dtype: int64"
      ]
     },
     "execution_count": 6,
     "metadata": {},
     "output_type": "execute_result"
    }
   ],
   "source": [
    "# To Check the null value\n",
    "dataset.isnull().sum()"
   ]
  },
  {
   "cell_type": "code",
   "execution_count": 7,
   "id": "565e7ea8",
   "metadata": {},
   "outputs": [
    {
     "data": {
      "text/html": [
       "<div>\n",
       "<style scoped>\n",
       "    .dataframe tbody tr th:only-of-type {\n",
       "        vertical-align: middle;\n",
       "    }\n",
       "\n",
       "    .dataframe tbody tr th {\n",
       "        vertical-align: top;\n",
       "    }\n",
       "\n",
       "    .dataframe thead th {\n",
       "        text-align: right;\n",
       "    }\n",
       "</style>\n",
       "<table border=\"1\" class=\"dataframe\">\n",
       "  <thead>\n",
       "    <tr style=\"text-align: right;\">\n",
       "      <th></th>\n",
       "      <th>SPX</th>\n",
       "      <th>GLD</th>\n",
       "      <th>USO</th>\n",
       "      <th>SLV</th>\n",
       "      <th>EUR/USD</th>\n",
       "    </tr>\n",
       "  </thead>\n",
       "  <tbody>\n",
       "    <tr>\n",
       "      <th>count</th>\n",
       "      <td>2290.000000</td>\n",
       "      <td>2290.000000</td>\n",
       "      <td>2290.000000</td>\n",
       "      <td>2290.000000</td>\n",
       "      <td>2290.000000</td>\n",
       "    </tr>\n",
       "    <tr>\n",
       "      <th>mean</th>\n",
       "      <td>1654.315776</td>\n",
       "      <td>122.732875</td>\n",
       "      <td>31.842221</td>\n",
       "      <td>20.084997</td>\n",
       "      <td>1.283653</td>\n",
       "    </tr>\n",
       "    <tr>\n",
       "      <th>std</th>\n",
       "      <td>519.111540</td>\n",
       "      <td>23.283346</td>\n",
       "      <td>19.523517</td>\n",
       "      <td>7.092566</td>\n",
       "      <td>0.131547</td>\n",
       "    </tr>\n",
       "    <tr>\n",
       "      <th>min</th>\n",
       "      <td>676.530029</td>\n",
       "      <td>70.000000</td>\n",
       "      <td>7.960000</td>\n",
       "      <td>8.850000</td>\n",
       "      <td>1.039047</td>\n",
       "    </tr>\n",
       "    <tr>\n",
       "      <th>25%</th>\n",
       "      <td>1239.874969</td>\n",
       "      <td>109.725000</td>\n",
       "      <td>14.380000</td>\n",
       "      <td>15.570000</td>\n",
       "      <td>1.171313</td>\n",
       "    </tr>\n",
       "    <tr>\n",
       "      <th>50%</th>\n",
       "      <td>1551.434998</td>\n",
       "      <td>120.580002</td>\n",
       "      <td>33.869999</td>\n",
       "      <td>17.268500</td>\n",
       "      <td>1.303297</td>\n",
       "    </tr>\n",
       "    <tr>\n",
       "      <th>75%</th>\n",
       "      <td>2073.010070</td>\n",
       "      <td>132.840004</td>\n",
       "      <td>37.827501</td>\n",
       "      <td>22.882500</td>\n",
       "      <td>1.369971</td>\n",
       "    </tr>\n",
       "    <tr>\n",
       "      <th>max</th>\n",
       "      <td>2872.870117</td>\n",
       "      <td>184.589996</td>\n",
       "      <td>117.480003</td>\n",
       "      <td>47.259998</td>\n",
       "      <td>1.598798</td>\n",
       "    </tr>\n",
       "  </tbody>\n",
       "</table>\n",
       "</div>"
      ],
      "text/plain": [
       "               SPX          GLD          USO          SLV      EUR/USD\n",
       "count  2290.000000  2290.000000  2290.000000  2290.000000  2290.000000\n",
       "mean   1654.315776   122.732875    31.842221    20.084997     1.283653\n",
       "std     519.111540    23.283346    19.523517     7.092566     0.131547\n",
       "min     676.530029    70.000000     7.960000     8.850000     1.039047\n",
       "25%    1239.874969   109.725000    14.380000    15.570000     1.171313\n",
       "50%    1551.434998   120.580002    33.869999    17.268500     1.303297\n",
       "75%    2073.010070   132.840004    37.827501    22.882500     1.369971\n",
       "max    2872.870117   184.589996   117.480003    47.259998     1.598798"
      ]
     },
     "execution_count": 7,
     "metadata": {},
     "output_type": "execute_result"
    }
   ],
   "source": [
    "# To measure statistical data\n",
    "dataset.describe()"
   ]
  },
  {
   "cell_type": "code",
   "execution_count": null,
   "id": "eb6eed14",
   "metadata": {},
   "outputs": [],
   "source": []
  },
  {
   "cell_type": "code",
   "execution_count": 8,
   "id": "58272210",
   "metadata": {},
   "outputs": [],
   "source": [
    "# To find correllation \n",
    "#1. Postive Correlltion\n",
    "# 2. Negative Correlation"
   ]
  },
  {
   "cell_type": "code",
   "execution_count": 9,
   "id": "b88c8721",
   "metadata": {},
   "outputs": [],
   "source": [
    "correlation = dataset.corr()"
   ]
  },
  {
   "cell_type": "code",
   "execution_count": 10,
   "id": "f9191f39",
   "metadata": {},
   "outputs": [
    {
     "data": {
      "text/html": [
       "<div>\n",
       "<style scoped>\n",
       "    .dataframe tbody tr th:only-of-type {\n",
       "        vertical-align: middle;\n",
       "    }\n",
       "\n",
       "    .dataframe tbody tr th {\n",
       "        vertical-align: top;\n",
       "    }\n",
       "\n",
       "    .dataframe thead th {\n",
       "        text-align: right;\n",
       "    }\n",
       "</style>\n",
       "<table border=\"1\" class=\"dataframe\">\n",
       "  <thead>\n",
       "    <tr style=\"text-align: right;\">\n",
       "      <th></th>\n",
       "      <th>SPX</th>\n",
       "      <th>GLD</th>\n",
       "      <th>USO</th>\n",
       "      <th>SLV</th>\n",
       "      <th>EUR/USD</th>\n",
       "    </tr>\n",
       "  </thead>\n",
       "  <tbody>\n",
       "    <tr>\n",
       "      <th>SPX</th>\n",
       "      <td>1.000000</td>\n",
       "      <td>0.049345</td>\n",
       "      <td>-0.591573</td>\n",
       "      <td>-0.274055</td>\n",
       "      <td>-0.672017</td>\n",
       "    </tr>\n",
       "    <tr>\n",
       "      <th>GLD</th>\n",
       "      <td>0.049345</td>\n",
       "      <td>1.000000</td>\n",
       "      <td>-0.186360</td>\n",
       "      <td>0.866632</td>\n",
       "      <td>-0.024375</td>\n",
       "    </tr>\n",
       "    <tr>\n",
       "      <th>USO</th>\n",
       "      <td>-0.591573</td>\n",
       "      <td>-0.186360</td>\n",
       "      <td>1.000000</td>\n",
       "      <td>0.167547</td>\n",
       "      <td>0.829317</td>\n",
       "    </tr>\n",
       "    <tr>\n",
       "      <th>SLV</th>\n",
       "      <td>-0.274055</td>\n",
       "      <td>0.866632</td>\n",
       "      <td>0.167547</td>\n",
       "      <td>1.000000</td>\n",
       "      <td>0.321631</td>\n",
       "    </tr>\n",
       "    <tr>\n",
       "      <th>EUR/USD</th>\n",
       "      <td>-0.672017</td>\n",
       "      <td>-0.024375</td>\n",
       "      <td>0.829317</td>\n",
       "      <td>0.321631</td>\n",
       "      <td>1.000000</td>\n",
       "    </tr>\n",
       "  </tbody>\n",
       "</table>\n",
       "</div>"
      ],
      "text/plain": [
       "              SPX       GLD       USO       SLV   EUR/USD\n",
       "SPX      1.000000  0.049345 -0.591573 -0.274055 -0.672017\n",
       "GLD      0.049345  1.000000 -0.186360  0.866632 -0.024375\n",
       "USO     -0.591573 -0.186360  1.000000  0.167547  0.829317\n",
       "SLV     -0.274055  0.866632  0.167547  1.000000  0.321631\n",
       "EUR/USD -0.672017 -0.024375  0.829317  0.321631  1.000000"
      ]
     },
     "execution_count": 10,
     "metadata": {},
     "output_type": "execute_result"
    }
   ],
   "source": [
    "correlation"
   ]
  },
  {
   "cell_type": "code",
   "execution_count": 11,
   "id": "d44ce7ea",
   "metadata": {},
   "outputs": [
    {
     "data": {
      "image/png": "[encoded data removed]",
      "text/plain": [
       "<Figure size 720x720 with 2 Axes>"
      ]
     },
     "metadata": {
      "needs_background": "light"
     },
     "output_type": "display_data"
    }
   ],
   "source": [
    "# Data Visulize to understand correaltion\n",
    "\n",
    "plt.figure(figsize=(10,10))\n",
    "sns.heatmap(correlation , annot =True, cbar=True, cmap= 'Blues', fmt='.2f', square=True )\n",
    "plt.show()"
   ]
  },
  {
   "cell_type": "code",
   "execution_count": 12,
   "id": "b90f7c60",
   "metadata": {},
   "outputs": [
    {
     "data": {
      "image/png": "[encoded data removed]",
      "text/plain": [
       "<Figure size 432x432 with 1 Axes>"
      ]
     },
     "metadata": {
      "needs_background": "light"
     },
     "output_type": "display_data"
    }
   ],
   "source": [
    "# checking the distribution of the GLD Price\n",
    "plt.figure(figsize=(6,6))\n",
    "sns.distplot(dataset['GLD'],color='pink')\n",
    "plt.show()"
   ]
  },
  {
   "cell_type": "code",
   "execution_count": 13,
   "id": "07a22fd8",
   "metadata": {},
   "outputs": [
    {
     "data": {
      "text/plain": [
       "Index(['Date', 'SPX', 'GLD', 'USO', 'SLV', 'EUR/USD'], dtype='object')"
      ]
     },
     "execution_count": 13,
     "metadata": {},
     "output_type": "execute_result"
    }
   ],
   "source": [
    "# To check Columns name\n",
    "dataset.columns"
   ]
  },
  {
   "cell_type": "code",
   "execution_count": 14,
   "id": "b79ddf49",
   "metadata": {},
   "outputs": [],
   "source": [
    "# Splitting the Features and Target\n",
    "\n",
    "X = dataset.drop(['Date' , 'GLD'] , axis=True)\n",
    "y = dataset[\"GLD\"]"
   ]
  },
  {
   "cell_type": "code",
   "execution_count": 15,
   "id": "1df98191",
   "metadata": {},
   "outputs": [
    {
     "data": {
      "text/html": [
       "<div>\n",
       "<style scoped>\n",
       "    .dataframe tbody tr th:only-of-type {\n",
       "        vertical-align: middle;\n",
       "    }\n",
       "\n",
       "    .dataframe tbody tr th {\n",
       "        vertical-align: top;\n",
       "    }\n",
       "\n",
       "    .dataframe thead th {\n",
       "        text-align: right;\n",
       "    }\n",
       "</style>\n",
       "<table border=\"1\" class=\"dataframe\">\n",
       "  <thead>\n",
       "    <tr style=\"text-align: right;\">\n",
       "      <th></th>\n",
       "      <th>SPX</th>\n",
       "      <th>USO</th>\n",
       "      <th>SLV</th>\n",
       "      <th>EUR/USD</th>\n",
       "    </tr>\n",
       "  </thead>\n",
       "  <tbody>\n",
       "    <tr>\n",
       "      <th>0</th>\n",
       "      <td>1447.160034</td>\n",
       "      <td>78.470001</td>\n",
       "      <td>15.180</td>\n",
       "      <td>1.471692</td>\n",
       "    </tr>\n",
       "    <tr>\n",
       "      <th>1</th>\n",
       "      <td>1447.160034</td>\n",
       "      <td>78.370003</td>\n",
       "      <td>15.285</td>\n",
       "      <td>1.474491</td>\n",
       "    </tr>\n",
       "    <tr>\n",
       "      <th>2</th>\n",
       "      <td>1411.630005</td>\n",
       "      <td>77.309998</td>\n",
       "      <td>15.167</td>\n",
       "      <td>1.475492</td>\n",
       "    </tr>\n",
       "    <tr>\n",
       "      <th>3</th>\n",
       "      <td>1416.180054</td>\n",
       "      <td>75.500000</td>\n",
       "      <td>15.053</td>\n",
       "      <td>1.468299</td>\n",
       "    </tr>\n",
       "    <tr>\n",
       "      <th>4</th>\n",
       "      <td>1390.189941</td>\n",
       "      <td>76.059998</td>\n",
       "      <td>15.590</td>\n",
       "      <td>1.557099</td>\n",
       "    </tr>\n",
       "  </tbody>\n",
       "</table>\n",
       "</div>"
      ],
      "text/plain": [
       "           SPX        USO     SLV   EUR/USD\n",
       "0  1447.160034  78.470001  15.180  1.471692\n",
       "1  1447.160034  78.370003  15.285  1.474491\n",
       "2  1411.630005  77.309998  15.167  1.475492\n",
       "3  1416.180054  75.500000  15.053  1.468299\n",
       "4  1390.189941  76.059998  15.590  1.557099"
      ]
     },
     "execution_count": 15,
     "metadata": {},
     "output_type": "execute_result"
    }
   ],
   "source": [
    "X.head()"
   ]
  },
  {
   "cell_type": "code",
   "execution_count": 16,
   "id": "418af193",
   "metadata": {},
   "outputs": [
    {
     "data": {
      "text/plain": [
       "0    84.860001\n",
       "1    85.570000\n",
       "2    85.129997\n",
       "3    84.769997\n",
       "4    86.779999\n",
       "Name: GLD, dtype: float64"
      ]
     },
     "execution_count": 16,
     "metadata": {},
     "output_type": "execute_result"
    }
   ],
   "source": [
    "y.head()"
   ]
  },
  {
   "cell_type": "markdown",
   "id": "bfe58abc",
   "metadata": {},
   "source": [
    "# Training & Test data"
   ]
  },
  {
   "cell_type": "code",
   "execution_count": 17,
   "id": "00ca8de1",
   "metadata": {},
   "outputs": [],
   "source": [
    "# Import required libraries for training & testing\n",
    "\n",
    "from sklearn.model_selection import train_test_split\n",
    "from sklearn.ensemble import RandomForestRegressor\n",
    "from sklearn import metrics\n",
    "from sklearn.metrics import accuracy_score"
   ]
  },
  {
   "cell_type": "code",
   "execution_count": 18,
   "id": "779257c4",
   "metadata": {},
   "outputs": [],
   "source": [
    "X_train, X_test , y_train, y_test =train_test_split(X,y , test_size=0.2 , random_state=2)"
   ]
  },
  {
   "cell_type": "code",
   "execution_count": 19,
   "id": "029018ea",
   "metadata": {},
   "outputs": [
    {
     "name": "stdout",
     "output_type": "stream",
     "text": [
      "(2290, 4) (1832, 4) (458, 4)\n"
     ]
    }
   ],
   "source": [
    "# To check shape of data\n",
    "print(X.shape , X_train.shape, X_test.shape)"
   ]
  },
  {
   "cell_type": "code",
   "execution_count": 20,
   "id": "466418da",
   "metadata": {},
   "outputs": [
    {
     "data": {
      "text/plain": [
       "RandomForestRegressor()"
      ]
     },
     "execution_count": 20,
     "metadata": {},
     "output_type": "execute_result"
    }
   ],
   "source": [
    "# Model Training:- RandomForest Regression\n",
    "\n",
    "model = RandomForestRegressor()\n",
    "model"
   ]
  },
  {
   "cell_type": "code",
   "execution_count": 21,
   "id": "3cb5194f",
   "metadata": {},
   "outputs": [
    {
     "data": {
      "text/plain": [
       "RandomForestRegressor()"
      ]
     },
     "execution_count": 21,
     "metadata": {},
     "output_type": "execute_result"
    }
   ],
   "source": [
    "# Train the model with trainig data\n",
    "model.fit(X_train ,y_train)"
   ]
  },
  {
   "cell_type": "markdown",
   "id": "5124ebe0",
   "metadata": {},
   "source": [
    "# Model Evalution"
   ]
  },
  {
   "cell_type": "code",
   "execution_count": 22,
   "id": "af0892af",
   "metadata": {},
   "outputs": [],
   "source": [
    "## Predication on Training data\n",
    "\n",
    "X_train_prediction = model.predict(X_train)"
   ]
  },
  {
   "cell_type": "code",
   "execution_count": 23,
   "id": "e567ef51",
   "metadata": {},
   "outputs": [
    {
     "data": {
      "text/plain": [
       "array([109.94329801, 114.8175007 ,  90.82909992, ..., 130.88889736,\n",
       "       159.83239621, 114.86979979])"
      ]
     },
     "execution_count": 23,
     "metadata": {},
     "output_type": "execute_result"
    }
   ],
   "source": [
    "X_train_prediction"
   ]
  },
  {
   "cell_type": "code",
   "execution_count": 24,
   "id": "73935626",
   "metadata": {},
   "outputs": [
    {
     "name": "stdout",
     "output_type": "stream",
     "text": [
      "R squared error :  0.9985956500554933\n"
     ]
    }
   ],
   "source": [
    "# R squared error\n",
    "error_score = metrics.r2_score(y_train, X_train_prediction)\n",
    "print(\"R squared error : \", error_score)"
   ]
  },
  {
   "cell_type": "code",
   "execution_count": 25,
   "id": "1cd3a02f",
   "metadata": {},
   "outputs": [],
   "source": [
    "# Predication on Test data\n",
    "\n",
    "X_test_prediction = model.predict(X_test)"
   ]
  },
  {
   "cell_type": "code",
   "execution_count": 26,
   "id": "552a3c83",
   "metadata": {},
   "outputs": [
    {
     "name": "stdout",
     "output_type": "stream",
     "text": [
      "[168.57659928  82.07349975 116.00039999 127.58430075 120.9215013\n",
      " 154.72899717 150.0126991  126.00950026 117.3493989  126.05810064\n",
      " 116.88090077 171.62400144 142.07929814 167.96589942 115.06420037\n",
      " 117.87470016 138.21630249 169.96540075 159.47490304 156.73919929\n",
      " 155.22330057 125.17739995 176.6215992  157.21780322 125.18590037\n",
      "  93.98649992  77.32690013 120.75029989 119.08549924 167.54260021\n",
      "  87.98040067 125.25400016  91.17750081 117.53289999 121.20259896\n",
      " 136.27860066 115.66650095 115.50390062 146.65519927 107.14710106\n",
      " 104.5263026   87.0828979  126.57960033 117.90780009 153.11649903\n",
      " 119.75369991 108.37780004 108.08189793  93.17460051 127.15339763\n",
      "  74.65300032 113.57299938 121.30510021 111.21529937 118.86829887\n",
      " 120.72319931 159.32740029 167.62120102 146.76439679  85.86269853\n",
      "  94.29640056  86.82729888  90.42880025 118.91050061 126.49270039\n",
      " 127.6623003  169.0189996  122.33119919 117.66399872  98.29710049\n",
      " 168.25840195 142.86299841 131.96280235 121.16930219 120.57129958\n",
      " 119.61160071 114.37280143 118.30610056 107.08210112 127.97320153\n",
      " 113.79079949 107.22059992 116.54960049 119.63459888  89.03730039\n",
      "  88.23969857 146.88080231 127.42880025 112.9942007  110.49049834\n",
      " 108.27179911  77.31059914 169.3781018  114.14849935 121.70569896\n",
      " 128.0697019  154.99499789  91.81459963 136.38110166 158.04220326\n",
      " 125.54930059 125.26690063 130.68640213 115.10660108 119.8350002\n",
      "  92.02619997 110.33659904 166.8496989  158.16799849 114.25629973\n",
      " 106.63610124  79.18629974 113.34960031 125.82240058 107.602599\n",
      " 119.38610056 155.51240299 160.03329935 120.3932001  134.87910256\n",
      " 101.28439999 117.72699798 119.35540005 112.93550084 102.80159949\n",
      " 160.45739868  99.07290012 146.7306997  125.48550088 169.96859929\n",
      " 125.57769942 127.31559753 127.34290143 113.69449927 112.88600068\n",
      " 123.64959882 102.2480991   89.04870021 124.4760996  101.51649939\n",
      " 106.88979912 113.28510049 117.33350098  98.76989954 121.82020058\n",
      " 163.77159994  87.39859901 106.97889963 117.10210093 127.73210156\n",
      " 124.07910064  80.67429909 120.28600052 158.29539784  88.0413999\n",
      " 110.39239911 118.62139889 172.34279839 103.08929902 105.46150047\n",
      " 122.80690054 158.83699756  87.70969831  93.13540046 112.54370044\n",
      " 177.840799   114.48749978 119.38520009  94.89270114 125.57800024\n",
      " 166.52380121 114.9653006  116.78690109  88.28299853 148.83450118\n",
      " 120.43269951  89.6361999  112.46440011 117.09390008 118.77490116\n",
      "  87.9980991   94.25110013 116.99739989 118.33410202 120.32270025\n",
      " 126.7626988  121.92869972 148.81249981 165.28230055 118.53039942\n",
      " 120.08480177 150.69020052 118.7393994  173.10919852 105.37479944\n",
      " 105.06250129 148.81470107 113.3795009  124.64420128 147.46830002\n",
      " 119.70850124 115.23860044 112.73150002 113.44470201 140.88950142\n",
      " 118.01049745 102.92640038 115.81900109 103.69880195  98.5784002\n",
      " 117.14800078  90.93069996  91.70060042 153.56869839 102.71109967\n",
      " 155.05920087 114.36320162 138.40660095  90.12009831 115.4005995\n",
      " 114.94759962 123.11780058 121.69779999 165.47220179  92.84659967\n",
      " 135.6273012  121.39379906 120.96000046 104.69200024 141.95520286\n",
      " 121.62759931 116.52600044 113.48310072 127.17609778 122.65139956\n",
      " 125.87659893 121.26120008  86.8291993  132.21300079 144.44020218\n",
      "  92.61169944 160.32599973 158.31510216 126.24839915 164.53309979\n",
      " 108.78309951 110.01520047 103.62809813  94.24990064 127.79570304\n",
      " 107.1851002  163.57889996 121.71350053 131.87270043 130.61170184\n",
      " 160.55979992  90.19799839 175.9738015  128.01610097 126.80409898\n",
      "  86.51949889 124.62589945 150.28269722  89.69320001 107.23159972\n",
      " 108.84359955  84.47029891 135.52179997 154.91570282 140.68730367\n",
      "  74.30570003 152.29680058 125.89889949 126.73540026 127.45139917\n",
      " 108.60869933 156.11159952 114.64840085 116.80230123 125.1776996\n",
      " 154.09890147 121.21710029 156.37019899  93.00410064 125.52080139\n",
      " 125.72290051  87.67700019  92.19799916 126.39579902 128.59680338\n",
      " 113.09030019 117.50339739 121.0410001  127.16959802 119.3030011\n",
      " 136.23800097  94.0465999  119.66660016 113.06800096  94.36279944\n",
      " 108.96090039  87.19559931 109.09929924  89.52309978  92.49170009\n",
      " 131.41950316 162.46220024  89.55509988 119.60250084 133.25750173\n",
      " 123.90670017 128.40640181 101.91499847  89.2872984  132.36410032\n",
      " 119.69180024 108.35079962 169.16980109 115.19460059  86.64899919\n",
      " 119.00480062  91.12219959 161.42299985 116.45450061 121.0197999\n",
      " 160.35679777 120.05399942 112.5673994  108.43099893 126.84139963\n",
      "  75.55300042 103.01539983 127.79930276 121.72949906  92.59360002\n",
      " 132.10200077 117.84180134 115.57889966 154.6147027  159.85980074\n",
      " 109.80509985 153.91279808 119.2774008  160.88160065 118.45920034\n",
      " 157.5557998  115.03289911 116.25280027 148.74859866 114.77780073\n",
      " 125.70669813 166.12819949 117.84520029 125.16589922 153.29410344\n",
      " 153.65910182 132.05900068 114.84530034 121.18820192 125.06890059\n",
      "  89.65000094 123.2426003  154.87700196 111.87910065 107.01419947\n",
      " 161.63970158 118.35299979 165.60639996 133.98280077 114.82899974\n",
      " 152.92149863 168.48079987 115.11190018 114.12230122 157.72449882\n",
      "  85.34349917 127.02180072 127.88230071 128.77339996 124.35310066\n",
      " 123.84130054  90.63820061 153.14770079  96.94190007 137.48790011\n",
      "  89.29329958 107.26420008 114.96230028 112.91710092 124.03669952\n",
      "  91.43629895 125.32920083 162.46499802 120.03939879 165.18840191\n",
      " 126.75019895 112.41300037 127.62619897  95.30219905  91.04929996\n",
      " 103.57579924 120.9288001   83.35299952 126.45179969 160.49770385\n",
      " 117.09030078 118.22590004 120.4620998  123.10279992 120.07320115\n",
      " 121.56849984 117.97170083 106.73309995 148.23560022 125.96039901\n",
      " 115.83370077  73.77260019 127.79220083 155.0601003  122.90979993\n",
      " 125.52770065  88.68820025 103.44959872 124.32390051 120.26320011\n",
      "  73.26240101 152.28300001 121.11740052 104.84110005  86.38629807\n",
      " 115.20329874 172.20159839 119.76430041 159.69349809 113.19719942\n",
      " 121.24710042 118.59050073  96.06479983 118.72779942 126.07780052\n",
      " 118.47669964  96.42110106 153.94440192 121.47180023 147.38320065\n",
      " 159.46060306 113.79150042 122.68089922 148.29439738 127.02740019\n",
      " 165.55990134 134.87300019 120.09369948 167.13199927 108.49899927\n",
      " 121.94229845 138.07780118 106.66679898]\n"
     ]
    }
   ],
   "source": [
    "print(X_test_prediction)"
   ]
  },
  {
   "cell_type": "code",
   "execution_count": 27,
   "id": "e06ca47c",
   "metadata": {},
   "outputs": [
    {
     "name": "stdout",
     "output_type": "stream",
     "text": [
      "R squared error :  0.9890374451282898\n"
     ]
    }
   ],
   "source": [
    "# R squared error on testing data\n",
    "error_score = metrics.r2_score(y_test, X_test_prediction)\n",
    "print(\"R squared error : \", error_score)"
   ]
  },
  {
   "cell_type": "code",
   "execution_count": 28,
   "id": "d0c9087c",
   "metadata": {},
   "outputs": [],
   "source": [
    "y_test =list(y_test)"
   ]
  },
  {
   "cell_type": "code",
   "execution_count": 29,
   "id": "438a9dab",
   "metadata": {},
   "outputs": [
    {
     "data": {
      "image/png": "[encoded data removed]",
      "text/plain": [
       "<Figure size 720x720 with 1 Axes>"
      ]
     },
     "metadata": {
      "needs_background": "light"
     },
     "output_type": "display_data"
    }
   ],
   "source": [
    "# Data Visulization\n",
    "\n",
    "# Compare Acutal Price & predicated price\n",
    "\n",
    "plt.figure(figsize=(10,10))\n",
    "plt.plot(y_test, color='blue', label = 'Actual Value')\n",
    "plt.plot(X_test_prediction, color='green', label='Predicted Value')\n",
    "plt.title('Actual Price vs Predicted Price')\n",
    "plt.xlabel('Number of values')\n",
    "plt.ylabel('GLD Price')\n",
    "plt.legend()\n",
    "plt.show()"
   ]
  },
  {
   "cell_type": "code",
   "execution_count": null,
   "id": "991c96e9",
   "metadata": {},
   "outputs": [],
   "source": []
  },
  {
   "cell_type": "code",
   "execution_count": 30,
   "id": "cff7628b",
   "metadata": {},
   "outputs": [],
   "source": [
    "# To compare data by other model"
   ]
  },
  {
   "cell_type": "markdown",
   "id": "b320d63e",
   "metadata": {},
   "source": [
    "# Linear Regression "
   ]
  },
  {
   "cell_type": "code",
   "execution_count": 31,
   "id": "8baa9a90",
   "metadata": {},
   "outputs": [],
   "source": [
    "# Splitting the Features and Target\n",
    "\n",
    "X = dataset.drop(['Date' , 'GLD'] , axis=True)\n",
    "y = dataset[\"GLD\"]"
   ]
  },
  {
   "cell_type": "code",
   "execution_count": 32,
   "id": "0f9ec877",
   "metadata": {},
   "outputs": [],
   "source": [
    "# Import required libraries\n",
    "\n",
    "from sklearn.linear_model import LinearRegression"
   ]
  },
  {
   "cell_type": "code",
   "execution_count": 33,
   "id": "3b919518",
   "metadata": {},
   "outputs": [],
   "source": [
    "X_train, X_test , y_train, y_test =train_test_split(X,y , test_size=0.2 , random_state=2)"
   ]
  },
  {
   "cell_type": "code",
   "execution_count": 34,
   "id": "f1a272d4",
   "metadata": {},
   "outputs": [],
   "source": [
    "# Model Training:- Linear regression \n",
    "model_lin_reg = LinearRegression()"
   ]
  },
  {
   "cell_type": "code",
   "execution_count": 35,
   "id": "77fe112b",
   "metadata": {},
   "outputs": [
    {
     "data": {
      "text/plain": [
       "LinearRegression()"
      ]
     },
     "execution_count": 35,
     "metadata": {},
     "output_type": "execute_result"
    }
   ],
   "source": [
    "model_lin_reg"
   ]
  },
  {
   "cell_type": "code",
   "execution_count": 36,
   "id": "1fba9b10",
   "metadata": {},
   "outputs": [
    {
     "data": {
      "text/plain": [
       "LinearRegression()"
      ]
     },
     "execution_count": 36,
     "metadata": {},
     "output_type": "execute_result"
    }
   ],
   "source": [
    "# train model with training data\n",
    "model_lin_reg.fit(X_train , y_train)"
   ]
  },
  {
   "cell_type": "code",
   "execution_count": 37,
   "id": "7fd29501",
   "metadata": {},
   "outputs": [],
   "source": [
    "## Predication on Test data\n",
    "X_test_predictation = model_lin_reg.predict(X_test) "
   ]
  },
  {
   "cell_type": "code",
   "execution_count": 38,
   "id": "e5b5ab91",
   "metadata": {},
   "outputs": [
    {
     "data": {
      "text/plain": [
       "0.8657886565869236"
      ]
     },
     "execution_count": 38,
     "metadata": {},
     "output_type": "execute_result"
    }
   ],
   "source": [
    "# To find R squared on testing data\n",
    "error_score = metrics.r2_score(y_test, X_test_predictation)\n",
    "error_score"
   ]
  },
  {
   "cell_type": "code",
   "execution_count": null,
   "id": "edb5ecf9",
   "metadata": {},
   "outputs": [],
   "source": []
  },
  {
   "cell_type": "markdown",
   "id": "8b02f7fd",
   "metadata": {},
   "source": [
    "# Lasso"
   ]
  },
  {
   "cell_type": "code",
   "execution_count": 39,
   "id": "f8851788",
   "metadata": {},
   "outputs": [],
   "source": [
    "# Splitting the Features and Target\n",
    "\n",
    "X = dataset.drop(['Date' , 'GLD'] , axis=True)\n",
    "y = dataset[\"GLD\"]"
   ]
  },
  {
   "cell_type": "code",
   "execution_count": 40,
   "id": "409bb977",
   "metadata": {},
   "outputs": [],
   "source": [
    "# Import required libraries\n",
    "\n",
    "from sklearn.linear_model import Lasso"
   ]
  },
  {
   "cell_type": "code",
   "execution_count": 41,
   "id": "aea04dfb",
   "metadata": {},
   "outputs": [],
   "source": [
    "X_train, X_test , y_train, y_test =train_test_split(X,y , test_size=0.2 , random_state=2)"
   ]
  },
  {
   "cell_type": "code",
   "execution_count": 42,
   "id": "148df112",
   "metadata": {},
   "outputs": [],
   "source": [
    "# Model Training:-Lasso\n",
    "model_lasso = Lasso()"
   ]
  },
  {
   "cell_type": "code",
   "execution_count": 43,
   "id": "f455eacb",
   "metadata": {},
   "outputs": [
    {
     "data": {
      "text/plain": [
       "Lasso()"
      ]
     },
     "execution_count": 43,
     "metadata": {},
     "output_type": "execute_result"
    }
   ],
   "source": [
    "# train model with training data\n",
    "model_lasso.fit(X_train , y_train)"
   ]
  },
  {
   "cell_type": "code",
   "execution_count": 44,
   "id": "d08e0c1d",
   "metadata": {},
   "outputs": [],
   "source": [
    "## Predication on Test data\n",
    "\n",
    "X_test_predictation = model_lasso.predict(X_test) "
   ]
  },
  {
   "cell_type": "code",
   "execution_count": 45,
   "id": "853e00a5",
   "metadata": {},
   "outputs": [
    {
     "data": {
      "text/plain": [
       "0.8644937172756186"
      ]
     },
     "execution_count": 45,
     "metadata": {},
     "output_type": "execute_result"
    }
   ],
   "source": [
    "# To find R squared on testing data\n",
    "error_score = metrics.r2_score(y_test, X_test_predictation)\n",
    "error_score"
   ]
  },
  {
   "cell_type": "code",
   "execution_count": null,
   "id": "4d921e7d",
   "metadata": {},
   "outputs": [],
   "source": []
  },
  {
   "cell_type": "raw",
   "id": "39efe0d0",
   "metadata": {},
   "source": [
    "Conculsion :- Random Forest Regressor is the best machine learning algorithm for Gold price predication"
   ]
  },
  {
   "cell_type": "code",
   "execution_count": null,
   "id": "5b1a6b89",
   "metadata": {},
   "outputs": [],
   "source": []
  }
 ],
 "metadata": {
  "kernelspec": {
   "display_name": "Python 3 (ipykernel)",
   "language": "python",
   "name": "python3"
  },
  "language_info": {
   "codemirror_mode": {
    "name": "ipython",
    "version": 3
   },
   "file_extension": ".py",
   "mimetype": "text/x-python",
   "name": "python",
   "nbconvert_exporter": "python",
   "pygments_lexer": "ipython3",
   "version": "3.9.7"
  }
 },
 "nbformat": 4,
 "nbformat_minor": 5
}
