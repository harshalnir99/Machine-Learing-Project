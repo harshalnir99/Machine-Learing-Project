{
 "cells": [
  {
   "cell_type": "markdown",
   "id": "9f851db6",
   "metadata": {},
   "source": [
    "# Credit Card Fault Detection By using Logistic Regression"
   ]
  },
  {
   "cell_type": "code",
   "execution_count": null,
   "id": "fac0fccc",
   "metadata": {},
   "outputs": [],
   "source": []
  },
  {
   "cell_type": "code",
   "execution_count": 1,
   "id": "60e9a20f",
   "metadata": {},
   "outputs": [],
   "source": [
    "# Import Required Libraries\n",
    "\n",
    "import pandas as pd\n",
    "import numpy as np\n",
    "import matplotlib.pyplot as plt\n",
    "import seaborn as sns\n",
    "\n",
    "import warnings\n",
    "warnings.filterwarnings(\"ignore\")"
   ]
  },
  {
   "cell_type": "code",
   "execution_count": null,
   "id": "1f94ef3c",
   "metadata": {},
   "outputs": [],
   "source": []
  },
  {
   "cell_type": "code",
   "execution_count": 2,
   "id": "2245e428",
   "metadata": {},
   "outputs": [],
   "source": [
    "# Data Collection & Data Analysis\n",
    "\n",
    "credit_card_data = pd.read_csv(\"creditcard.csv\")"
   ]
  },
  {
   "cell_type": "code",
   "execution_count": 3,
   "id": "2ce7b7d4",
   "metadata": {},
   "outputs": [
    {
     "data": {
      "text/html": [
       "<div>\n",
       "<style scoped>\n",
       "    .dataframe tbody tr th:only-of-type {\n",
       "        vertical-align: middle;\n",
       "    }\n",
       "\n",
       "    .dataframe tbody tr th {\n",
       "        vertical-align: top;\n",
       "    }\n",
       "\n",
       "    .dataframe thead th {\n",
       "        text-align: right;\n",
       "    }\n",
       "</style>\n",
       "<table border=\"1\" class=\"dataframe\">\n",
       "  <thead>\n",
       "    <tr style=\"text-align: right;\">\n",
       "      <th></th>\n",
       "      <th>Time</th>\n",
       "      <th>V1</th>\n",
       "      <th>V2</th>\n",
       "      <th>V3</th>\n",
       "      <th>V4</th>\n",
       "      <th>V5</th>\n",
       "      <th>V6</th>\n",
       "      <th>V7</th>\n",
       "      <th>V8</th>\n",
       "      <th>V9</th>\n",
       "      <th>...</th>\n",
       "      <th>V21</th>\n",
       "      <th>V22</th>\n",
       "      <th>V23</th>\n",
       "      <th>V24</th>\n",
       "      <th>V25</th>\n",
       "      <th>V26</th>\n",
       "      <th>V27</th>\n",
       "      <th>V28</th>\n",
       "      <th>Amount</th>\n",
       "      <th>Class</th>\n",
       "    </tr>\n",
       "  </thead>\n",
       "  <tbody>\n",
       "    <tr>\n",
       "      <th>0</th>\n",
       "      <td>0.0</td>\n",
       "      <td>-1.359807</td>\n",
       "      <td>-0.072781</td>\n",
       "      <td>2.536347</td>\n",
       "      <td>1.378155</td>\n",
       "      <td>-0.338321</td>\n",
       "      <td>0.462388</td>\n",
       "      <td>0.239599</td>\n",
       "      <td>0.098698</td>\n",
       "      <td>0.363787</td>\n",
       "      <td>...</td>\n",
       "      <td>-0.018307</td>\n",
       "      <td>0.277838</td>\n",
       "      <td>-0.110474</td>\n",
       "      <td>0.066928</td>\n",
       "      <td>0.128539</td>\n",
       "      <td>-0.189115</td>\n",
       "      <td>0.133558</td>\n",
       "      <td>-0.021053</td>\n",
       "      <td>149.62</td>\n",
       "      <td>0</td>\n",
       "    </tr>\n",
       "    <tr>\n",
       "      <th>1</th>\n",
       "      <td>0.0</td>\n",
       "      <td>1.191857</td>\n",
       "      <td>0.266151</td>\n",
       "      <td>0.166480</td>\n",
       "      <td>0.448154</td>\n",
       "      <td>0.060018</td>\n",
       "      <td>-0.082361</td>\n",
       "      <td>-0.078803</td>\n",
       "      <td>0.085102</td>\n",
       "      <td>-0.255425</td>\n",
       "      <td>...</td>\n",
       "      <td>-0.225775</td>\n",
       "      <td>-0.638672</td>\n",
       "      <td>0.101288</td>\n",
       "      <td>-0.339846</td>\n",
       "      <td>0.167170</td>\n",
       "      <td>0.125895</td>\n",
       "      <td>-0.008983</td>\n",
       "      <td>0.014724</td>\n",
       "      <td>2.69</td>\n",
       "      <td>0</td>\n",
       "    </tr>\n",
       "    <tr>\n",
       "      <th>2</th>\n",
       "      <td>1.0</td>\n",
       "      <td>-1.358354</td>\n",
       "      <td>-1.340163</td>\n",
       "      <td>1.773209</td>\n",
       "      <td>0.379780</td>\n",
       "      <td>-0.503198</td>\n",
       "      <td>1.800499</td>\n",
       "      <td>0.791461</td>\n",
       "      <td>0.247676</td>\n",
       "      <td>-1.514654</td>\n",
       "      <td>...</td>\n",
       "      <td>0.247998</td>\n",
       "      <td>0.771679</td>\n",
       "      <td>0.909412</td>\n",
       "      <td>-0.689281</td>\n",
       "      <td>-0.327642</td>\n",
       "      <td>-0.139097</td>\n",
       "      <td>-0.055353</td>\n",
       "      <td>-0.059752</td>\n",
       "      <td>378.66</td>\n",
       "      <td>0</td>\n",
       "    </tr>\n",
       "    <tr>\n",
       "      <th>3</th>\n",
       "      <td>1.0</td>\n",
       "      <td>-0.966272</td>\n",
       "      <td>-0.185226</td>\n",
       "      <td>1.792993</td>\n",
       "      <td>-0.863291</td>\n",
       "      <td>-0.010309</td>\n",
       "      <td>1.247203</td>\n",
       "      <td>0.237609</td>\n",
       "      <td>0.377436</td>\n",
       "      <td>-1.387024</td>\n",
       "      <td>...</td>\n",
       "      <td>-0.108300</td>\n",
       "      <td>0.005274</td>\n",
       "      <td>-0.190321</td>\n",
       "      <td>-1.175575</td>\n",
       "      <td>0.647376</td>\n",
       "      <td>-0.221929</td>\n",
       "      <td>0.062723</td>\n",
       "      <td>0.061458</td>\n",
       "      <td>123.50</td>\n",
       "      <td>0</td>\n",
       "    </tr>\n",
       "    <tr>\n",
       "      <th>4</th>\n",
       "      <td>2.0</td>\n",
       "      <td>-1.158233</td>\n",
       "      <td>0.877737</td>\n",
       "      <td>1.548718</td>\n",
       "      <td>0.403034</td>\n",
       "      <td>-0.407193</td>\n",
       "      <td>0.095921</td>\n",
       "      <td>0.592941</td>\n",
       "      <td>-0.270533</td>\n",
       "      <td>0.817739</td>\n",
       "      <td>...</td>\n",
       "      <td>-0.009431</td>\n",
       "      <td>0.798278</td>\n",
       "      <td>-0.137458</td>\n",
       "      <td>0.141267</td>\n",
       "      <td>-0.206010</td>\n",
       "      <td>0.502292</td>\n",
       "      <td>0.219422</td>\n",
       "      <td>0.215153</td>\n",
       "      <td>69.99</td>\n",
       "      <td>0</td>\n",
       "    </tr>\n",
       "  </tbody>\n",
       "</table>\n",
       "<p>5 rows × 31 columns</p>\n",
       "</div>"
      ],
      "text/plain": [
       "   Time        V1        V2        V3        V4        V5        V6        V7  \\\n",
       "0   0.0 -1.359807 -0.072781  2.536347  1.378155 -0.338321  0.462388  0.239599   \n",
       "1   0.0  1.191857  0.266151  0.166480  0.448154  0.060018 -0.082361 -0.078803   \n",
       "2   1.0 -1.358354 -1.340163  1.773209  0.379780 -0.503198  1.800499  0.791461   \n",
       "3   1.0 -0.966272 -0.185226  1.792993 -0.863291 -0.010309  1.247203  0.237609   \n",
       "4   2.0 -1.158233  0.877737  1.548718  0.403034 -0.407193  0.095921  0.592941   \n",
       "\n",
       "         V8        V9  ...       V21       V22       V23       V24       V25  \\\n",
       "0  0.098698  0.363787  ... -0.018307  0.277838 -0.110474  0.066928  0.128539   \n",
       "1  0.085102 -0.255425  ... -0.225775 -0.638672  0.101288 -0.339846  0.167170   \n",
       "2  0.247676 -1.514654  ...  0.247998  0.771679  0.909412 -0.689281 -0.327642   \n",
       "3  0.377436 -1.387024  ... -0.108300  0.005274 -0.190321 -1.175575  0.647376   \n",
       "4 -0.270533  0.817739  ... -0.009431  0.798278 -0.137458  0.141267 -0.206010   \n",
       "\n",
       "        V26       V27       V28  Amount  Class  \n",
       "0 -0.189115  0.133558 -0.021053  149.62      0  \n",
       "1  0.125895 -0.008983  0.014724    2.69      0  \n",
       "2 -0.139097 -0.055353 -0.059752  378.66      0  \n",
       "3 -0.221929  0.062723  0.061458  123.50      0  \n",
       "4  0.502292  0.219422  0.215153   69.99      0  \n",
       "\n",
       "[5 rows x 31 columns]"
      ]
     },
     "execution_count": 3,
     "metadata": {},
     "output_type": "execute_result"
    }
   ],
   "source": [
    "# To check first five records\n",
    "credit_card_data.head()"
   ]
  },
  {
   "cell_type": "code",
   "execution_count": 4,
   "id": "1828d658",
   "metadata": {},
   "outputs": [
    {
     "data": {
      "text/plain": [
       "(284807, 31)"
      ]
     },
     "execution_count": 4,
     "metadata": {},
     "output_type": "execute_result"
    }
   ],
   "source": [
    "# To check shape of data\n",
    "\n",
    "credit_card_data.shape"
   ]
  },
  {
   "cell_type": "code",
   "execution_count": 5,
   "id": "eba02867",
   "metadata": {},
   "outputs": [
    {
     "data": {
      "text/plain": [
       "Time      0\n",
       "V1        0\n",
       "V2        0\n",
       "V3        0\n",
       "V4        0\n",
       "V5        0\n",
       "V6        0\n",
       "V7        0\n",
       "V8        0\n",
       "V9        0\n",
       "V10       0\n",
       "V11       0\n",
       "V12       0\n",
       "V13       0\n",
       "V14       0\n",
       "V15       0\n",
       "V16       0\n",
       "V17       0\n",
       "V18       0\n",
       "V19       0\n",
       "V20       0\n",
       "V21       0\n",
       "V22       0\n",
       "V23       0\n",
       "V24       0\n",
       "V25       0\n",
       "V26       0\n",
       "V27       0\n",
       "V28       0\n",
       "Amount    0\n",
       "Class     0\n",
       "dtype: int64"
      ]
     },
     "execution_count": 5,
     "metadata": {},
     "output_type": "execute_result"
    }
   ],
   "source": [
    "# To check missing value\n",
    "credit_card_data.isnull().sum()"
   ]
  },
  {
   "cell_type": "code",
   "execution_count": 6,
   "id": "a491e97d",
   "metadata": {},
   "outputs": [
    {
     "name": "stdout",
     "output_type": "stream",
     "text": [
      "<class 'pandas.core.frame.DataFrame'>\n",
      "RangeIndex: 284807 entries, 0 to 284806\n",
      "Data columns (total 31 columns):\n",
      " #   Column  Non-Null Count   Dtype  \n",
      "---  ------  --------------   -----  \n",
      " 0   Time    284807 non-null  float64\n",
      " 1   V1      284807 non-null  float64\n",
      " 2   V2      284807 non-null  float64\n",
      " 3   V3      284807 non-null  float64\n",
      " 4   V4      284807 non-null  float64\n",
      " 5   V5      284807 non-null  float64\n",
      " 6   V6      284807 non-null  float64\n",
      " 7   V7      284807 non-null  float64\n",
      " 8   V8      284807 non-null  float64\n",
      " 9   V9      284807 non-null  float64\n",
      " 10  V10     284807 non-null  float64\n",
      " 11  V11     284807 non-null  float64\n",
      " 12  V12     284807 non-null  float64\n",
      " 13  V13     284807 non-null  float64\n",
      " 14  V14     284807 non-null  float64\n",
      " 15  V15     284807 non-null  float64\n",
      " 16  V16     284807 non-null  float64\n",
      " 17  V17     284807 non-null  float64\n",
      " 18  V18     284807 non-null  float64\n",
      " 19  V19     284807 non-null  float64\n",
      " 20  V20     284807 non-null  float64\n",
      " 21  V21     284807 non-null  float64\n",
      " 22  V22     284807 non-null  float64\n",
      " 23  V23     284807 non-null  float64\n",
      " 24  V24     284807 non-null  float64\n",
      " 25  V25     284807 non-null  float64\n",
      " 26  V26     284807 non-null  float64\n",
      " 27  V27     284807 non-null  float64\n",
      " 28  V28     284807 non-null  float64\n",
      " 29  Amount  284807 non-null  float64\n",
      " 30  Class   284807 non-null  int64  \n",
      "dtypes: float64(30), int64(1)\n",
      "memory usage: 67.4 MB\n"
     ]
    }
   ],
   "source": [
    "# To check Datatype\n",
    "\n",
    "credit_card_data.info()"
   ]
  },
  {
   "cell_type": "code",
   "execution_count": 7,
   "id": "bec43f7a",
   "metadata": {},
   "outputs": [
    {
     "data": {
      "text/plain": [
       "array([0, 1], dtype=int64)"
      ]
     },
     "execution_count": 7,
     "metadata": {},
     "output_type": "execute_result"
    }
   ],
   "source": [
    "# To check in class how many paraameter is present\n",
    "\n",
    "credit_card_data['Class'].unique()"
   ]
  },
  {
   "cell_type": "code",
   "execution_count": 8,
   "id": "793f6992",
   "metadata": {},
   "outputs": [
    {
     "data": {
      "text/plain": [
       "0    284315\n",
       "1       492\n",
       "Name: Class, dtype: int64"
      ]
     },
     "execution_count": 8,
     "metadata": {},
     "output_type": "execute_result"
    }
   ],
   "source": [
    "# To check Valid data or fraud data counts\n",
    "\n",
    "# 0 represent Valid Transaction\n",
    "# 1 represent Fraudulent Transaction\n",
    "\n",
    "credit_card_data['Class'].value_counts()"
   ]
  },
  {
   "cell_type": "code",
   "execution_count": 9,
   "id": "85fedc15",
   "metadata": {},
   "outputs": [],
   "source": [
    "# This dataset highly unalnaced that why this data not send to ML alogorithms so again analysis data"
   ]
  },
  {
   "cell_type": "code",
   "execution_count": 10,
   "id": "b0443804",
   "metadata": {},
   "outputs": [],
   "source": [
    "# Separating the data for analysis\n",
    "\n",
    "valid = credit_card_data[credit_card_data['Class']==0]"
   ]
  },
  {
   "cell_type": "code",
   "execution_count": 11,
   "id": "22ce9362",
   "metadata": {},
   "outputs": [],
   "source": [
    "fraud = credit_card_data[credit_card_data['Class']==1]"
   ]
  },
  {
   "cell_type": "code",
   "execution_count": 12,
   "id": "f30dd772",
   "metadata": {},
   "outputs": [
    {
     "name": "stdout",
     "output_type": "stream",
     "text": [
      "(284315, 31)\n",
      "(492, 31)\n"
     ]
    }
   ],
   "source": [
    "# To check shape of data\n",
    "\n",
    "print(valid.shape)\n",
    "print(fraud.shape)"
   ]
  },
  {
   "cell_type": "code",
   "execution_count": 13,
   "id": "7971d2f8",
   "metadata": {},
   "outputs": [
    {
     "data": {
      "text/plain": [
       "count    284315.000000\n",
       "mean         88.291022\n",
       "std         250.105092\n",
       "min           0.000000\n",
       "25%           5.650000\n",
       "50%          22.000000\n",
       "75%          77.050000\n",
       "max       25691.160000\n",
       "Name: Amount, dtype: float64"
      ]
     },
     "execution_count": 13,
     "metadata": {},
     "output_type": "execute_result"
    }
   ],
   "source": [
    "# To check Statistical data for valid transcation\n",
    "\n",
    "valid['Amount'].describe()"
   ]
  },
  {
   "cell_type": "code",
   "execution_count": 14,
   "id": "2278f8c1",
   "metadata": {},
   "outputs": [
    {
     "data": {
      "text/plain": [
       "count     492.000000\n",
       "mean      122.211321\n",
       "std       256.683288\n",
       "min         0.000000\n",
       "25%         1.000000\n",
       "50%         9.250000\n",
       "75%       105.890000\n",
       "max      2125.870000\n",
       "Name: Amount, dtype: float64"
      ]
     },
     "execution_count": 14,
     "metadata": {},
     "output_type": "execute_result"
    }
   ],
   "source": [
    "# To check Statistical data for fraud transcation\n",
    "\n",
    "fraud['Amount'].describe()"
   ]
  },
  {
   "cell_type": "code",
   "execution_count": 15,
   "id": "46ee9f19",
   "metadata": {},
   "outputs": [
    {
     "data": {
      "text/html": [
       "<div>\n",
       "<style scoped>\n",
       "    .dataframe tbody tr th:only-of-type {\n",
       "        vertical-align: middle;\n",
       "    }\n",
       "\n",
       "    .dataframe tbody tr th {\n",
       "        vertical-align: top;\n",
       "    }\n",
       "\n",
       "    .dataframe thead th {\n",
       "        text-align: right;\n",
       "    }\n",
       "</style>\n",
       "<table border=\"1\" class=\"dataframe\">\n",
       "  <thead>\n",
       "    <tr style=\"text-align: right;\">\n",
       "      <th></th>\n",
       "      <th>Time</th>\n",
       "      <th>V1</th>\n",
       "      <th>V2</th>\n",
       "      <th>V3</th>\n",
       "      <th>V4</th>\n",
       "      <th>V5</th>\n",
       "      <th>V6</th>\n",
       "      <th>V7</th>\n",
       "      <th>V8</th>\n",
       "      <th>V9</th>\n",
       "      <th>...</th>\n",
       "      <th>V20</th>\n",
       "      <th>V21</th>\n",
       "      <th>V22</th>\n",
       "      <th>V23</th>\n",
       "      <th>V24</th>\n",
       "      <th>V25</th>\n",
       "      <th>V26</th>\n",
       "      <th>V27</th>\n",
       "      <th>V28</th>\n",
       "      <th>Amount</th>\n",
       "    </tr>\n",
       "    <tr>\n",
       "      <th>Class</th>\n",
       "      <th></th>\n",
       "      <th></th>\n",
       "      <th></th>\n",
       "      <th></th>\n",
       "      <th></th>\n",
       "      <th></th>\n",
       "      <th></th>\n",
       "      <th></th>\n",
       "      <th></th>\n",
       "      <th></th>\n",
       "      <th></th>\n",
       "      <th></th>\n",
       "      <th></th>\n",
       "      <th></th>\n",
       "      <th></th>\n",
       "      <th></th>\n",
       "      <th></th>\n",
       "      <th></th>\n",
       "      <th></th>\n",
       "      <th></th>\n",
       "      <th></th>\n",
       "    </tr>\n",
       "  </thead>\n",
       "  <tbody>\n",
       "    <tr>\n",
       "      <th>0</th>\n",
       "      <td>94838.202258</td>\n",
       "      <td>0.008258</td>\n",
       "      <td>-0.006271</td>\n",
       "      <td>0.012171</td>\n",
       "      <td>-0.007860</td>\n",
       "      <td>0.005453</td>\n",
       "      <td>0.002419</td>\n",
       "      <td>0.009637</td>\n",
       "      <td>-0.000987</td>\n",
       "      <td>0.004467</td>\n",
       "      <td>...</td>\n",
       "      <td>-0.000644</td>\n",
       "      <td>-0.001235</td>\n",
       "      <td>-0.000024</td>\n",
       "      <td>0.000070</td>\n",
       "      <td>0.000182</td>\n",
       "      <td>-0.000072</td>\n",
       "      <td>-0.000089</td>\n",
       "      <td>-0.000295</td>\n",
       "      <td>-0.000131</td>\n",
       "      <td>88.291022</td>\n",
       "    </tr>\n",
       "    <tr>\n",
       "      <th>1</th>\n",
       "      <td>80746.806911</td>\n",
       "      <td>-4.771948</td>\n",
       "      <td>3.623778</td>\n",
       "      <td>-7.033281</td>\n",
       "      <td>4.542029</td>\n",
       "      <td>-3.151225</td>\n",
       "      <td>-1.397737</td>\n",
       "      <td>-5.568731</td>\n",
       "      <td>0.570636</td>\n",
       "      <td>-2.581123</td>\n",
       "      <td>...</td>\n",
       "      <td>0.372319</td>\n",
       "      <td>0.713588</td>\n",
       "      <td>0.014049</td>\n",
       "      <td>-0.040308</td>\n",
       "      <td>-0.105130</td>\n",
       "      <td>0.041449</td>\n",
       "      <td>0.051648</td>\n",
       "      <td>0.170575</td>\n",
       "      <td>0.075667</td>\n",
       "      <td>122.211321</td>\n",
       "    </tr>\n",
       "  </tbody>\n",
       "</table>\n",
       "<p>2 rows × 30 columns</p>\n",
       "</div>"
      ],
      "text/plain": [
       "               Time        V1        V2        V3        V4        V5  \\\n",
       "Class                                                                   \n",
       "0      94838.202258  0.008258 -0.006271  0.012171 -0.007860  0.005453   \n",
       "1      80746.806911 -4.771948  3.623778 -7.033281  4.542029 -3.151225   \n",
       "\n",
       "             V6        V7        V8        V9  ...       V20       V21  \\\n",
       "Class                                          ...                       \n",
       "0      0.002419  0.009637 -0.000987  0.004467  ... -0.000644 -0.001235   \n",
       "1     -1.397737 -5.568731  0.570636 -2.581123  ...  0.372319  0.713588   \n",
       "\n",
       "            V22       V23       V24       V25       V26       V27       V28  \\\n",
       "Class                                                                         \n",
       "0     -0.000024  0.000070  0.000182 -0.000072 -0.000089 -0.000295 -0.000131   \n",
       "1      0.014049 -0.040308 -0.105130  0.041449  0.051648  0.170575  0.075667   \n",
       "\n",
       "           Amount  \n",
       "Class              \n",
       "0       88.291022  \n",
       "1      122.211321  \n",
       "\n",
       "[2 rows x 30 columns]"
      ]
     },
     "execution_count": 15,
     "metadata": {},
     "output_type": "execute_result"
    }
   ],
   "source": [
    "# compare the values for both transactions\n",
    "credit_card_data.groupby('Class').mean()"
   ]
  },
  {
   "cell_type": "code",
   "execution_count": null,
   "id": "c8f2d96e",
   "metadata": {},
   "outputs": [],
   "source": []
  },
  {
   "cell_type": "code",
   "execution_count": 16,
   "id": "758b4871",
   "metadata": {},
   "outputs": [],
   "source": [
    "#UnderSampling Method:- \n",
    "#Build a sample dataset containing similar distribution of normal transactions and Fraudulent Transactions\n",
    "# No. of Fraudulent Transaction present is 492 so consider Valid transcation also 492 for similier distrubution"
   ]
  },
  {
   "cell_type": "code",
   "execution_count": 17,
   "id": "cb8d3dde",
   "metadata": {},
   "outputs": [],
   "source": [
    "valid_sample = valid.sample(n=492)"
   ]
  },
  {
   "cell_type": "code",
   "execution_count": 18,
   "id": "e23bcfdf",
   "metadata": {},
   "outputs": [],
   "source": [
    "# Concatening Dataset( Join Two dataset)\n",
    "\n",
    "final_data = pd.concat([valid_sample , fraud], axis= 0)"
   ]
  },
  {
   "cell_type": "code",
   "execution_count": 19,
   "id": "093dfbf3",
   "metadata": {},
   "outputs": [
    {
     "data": {
      "text/html": [
       "<div>\n",
       "<style scoped>\n",
       "    .dataframe tbody tr th:only-of-type {\n",
       "        vertical-align: middle;\n",
       "    }\n",
       "\n",
       "    .dataframe tbody tr th {\n",
       "        vertical-align: top;\n",
       "    }\n",
       "\n",
       "    .dataframe thead th {\n",
       "        text-align: right;\n",
       "    }\n",
       "</style>\n",
       "<table border=\"1\" class=\"dataframe\">\n",
       "  <thead>\n",
       "    <tr style=\"text-align: right;\">\n",
       "      <th></th>\n",
       "      <th>Time</th>\n",
       "      <th>V1</th>\n",
       "      <th>V2</th>\n",
       "      <th>V3</th>\n",
       "      <th>V4</th>\n",
       "      <th>V5</th>\n",
       "      <th>V6</th>\n",
       "      <th>V7</th>\n",
       "      <th>V8</th>\n",
       "      <th>V9</th>\n",
       "      <th>...</th>\n",
       "      <th>V21</th>\n",
       "      <th>V22</th>\n",
       "      <th>V23</th>\n",
       "      <th>V24</th>\n",
       "      <th>V25</th>\n",
       "      <th>V26</th>\n",
       "      <th>V27</th>\n",
       "      <th>V28</th>\n",
       "      <th>Amount</th>\n",
       "      <th>Class</th>\n",
       "    </tr>\n",
       "  </thead>\n",
       "  <tbody>\n",
       "    <tr>\n",
       "      <th>107782</th>\n",
       "      <td>70617.0</td>\n",
       "      <td>0.988362</td>\n",
       "      <td>-1.052426</td>\n",
       "      <td>-0.000363</td>\n",
       "      <td>-0.403608</td>\n",
       "      <td>-1.152150</td>\n",
       "      <td>-1.057656</td>\n",
       "      <td>0.014863</td>\n",
       "      <td>-0.382722</td>\n",
       "      <td>-1.058232</td>\n",
       "      <td>...</td>\n",
       "      <td>-0.248820</td>\n",
       "      <td>-0.687822</td>\n",
       "      <td>-0.153115</td>\n",
       "      <td>0.443916</td>\n",
       "      <td>0.217429</td>\n",
       "      <td>1.015420</td>\n",
       "      <td>-0.102183</td>\n",
       "      <td>0.043635</td>\n",
       "      <td>224.00</td>\n",
       "      <td>0</td>\n",
       "    </tr>\n",
       "    <tr>\n",
       "      <th>51941</th>\n",
       "      <td>45202.0</td>\n",
       "      <td>-1.500506</td>\n",
       "      <td>-0.564856</td>\n",
       "      <td>1.051168</td>\n",
       "      <td>0.248662</td>\n",
       "      <td>-0.744085</td>\n",
       "      <td>1.249198</td>\n",
       "      <td>1.770116</td>\n",
       "      <td>0.310528</td>\n",
       "      <td>-0.436833</td>\n",
       "      <td>...</td>\n",
       "      <td>0.182393</td>\n",
       "      <td>0.003597</td>\n",
       "      <td>0.935087</td>\n",
       "      <td>-0.310187</td>\n",
       "      <td>-0.022017</td>\n",
       "      <td>0.268366</td>\n",
       "      <td>0.191307</td>\n",
       "      <td>0.190354</td>\n",
       "      <td>433.62</td>\n",
       "      <td>0</td>\n",
       "    </tr>\n",
       "    <tr>\n",
       "      <th>204914</th>\n",
       "      <td>135499.0</td>\n",
       "      <td>2.210017</td>\n",
       "      <td>-1.636144</td>\n",
       "      <td>-1.032963</td>\n",
       "      <td>-1.575280</td>\n",
       "      <td>-1.273889</td>\n",
       "      <td>-0.385047</td>\n",
       "      <td>-1.221281</td>\n",
       "      <td>-0.089451</td>\n",
       "      <td>-0.933635</td>\n",
       "      <td>...</td>\n",
       "      <td>-0.163414</td>\n",
       "      <td>-0.148809</td>\n",
       "      <td>0.216824</td>\n",
       "      <td>0.426419</td>\n",
       "      <td>-0.248222</td>\n",
       "      <td>-0.197360</td>\n",
       "      <td>-0.001199</td>\n",
       "      <td>-0.035223</td>\n",
       "      <td>70.00</td>\n",
       "      <td>0</td>\n",
       "    </tr>\n",
       "    <tr>\n",
       "      <th>73775</th>\n",
       "      <td>55273.0</td>\n",
       "      <td>1.119963</td>\n",
       "      <td>0.546055</td>\n",
       "      <td>0.877856</td>\n",
       "      <td>2.415833</td>\n",
       "      <td>-0.282554</td>\n",
       "      <td>-0.336366</td>\n",
       "      <td>0.018747</td>\n",
       "      <td>0.042135</td>\n",
       "      <td>-0.982280</td>\n",
       "      <td>...</td>\n",
       "      <td>-0.183696</td>\n",
       "      <td>-0.662870</td>\n",
       "      <td>0.156578</td>\n",
       "      <td>0.471700</td>\n",
       "      <td>0.182968</td>\n",
       "      <td>-0.295540</td>\n",
       "      <td>-0.012185</td>\n",
       "      <td>0.020821</td>\n",
       "      <td>7.08</td>\n",
       "      <td>0</td>\n",
       "    </tr>\n",
       "    <tr>\n",
       "      <th>65570</th>\n",
       "      <td>51647.0</td>\n",
       "      <td>1.381565</td>\n",
       "      <td>-0.400870</td>\n",
       "      <td>0.718851</td>\n",
       "      <td>-0.590967</td>\n",
       "      <td>-1.253026</td>\n",
       "      <td>-1.231586</td>\n",
       "      <td>-0.514538</td>\n",
       "      <td>-0.236794</td>\n",
       "      <td>-0.848732</td>\n",
       "      <td>...</td>\n",
       "      <td>-0.069278</td>\n",
       "      <td>-0.308903</td>\n",
       "      <td>0.170349</td>\n",
       "      <td>0.694246</td>\n",
       "      <td>0.196911</td>\n",
       "      <td>-0.502507</td>\n",
       "      <td>0.012611</td>\n",
       "      <td>0.026860</td>\n",
       "      <td>9.99</td>\n",
       "      <td>0</td>\n",
       "    </tr>\n",
       "  </tbody>\n",
       "</table>\n",
       "<p>5 rows × 31 columns</p>\n",
       "</div>"
      ],
      "text/plain": [
       "            Time        V1        V2        V3        V4        V5        V6  \\\n",
       "107782   70617.0  0.988362 -1.052426 -0.000363 -0.403608 -1.152150 -1.057656   \n",
       "51941    45202.0 -1.500506 -0.564856  1.051168  0.248662 -0.744085  1.249198   \n",
       "204914  135499.0  2.210017 -1.636144 -1.032963 -1.575280 -1.273889 -0.385047   \n",
       "73775    55273.0  1.119963  0.546055  0.877856  2.415833 -0.282554 -0.336366   \n",
       "65570    51647.0  1.381565 -0.400870  0.718851 -0.590967 -1.253026 -1.231586   \n",
       "\n",
       "              V7        V8        V9  ...       V21       V22       V23  \\\n",
       "107782  0.014863 -0.382722 -1.058232  ... -0.248820 -0.687822 -0.153115   \n",
       "51941   1.770116  0.310528 -0.436833  ...  0.182393  0.003597  0.935087   \n",
       "204914 -1.221281 -0.089451 -0.933635  ... -0.163414 -0.148809  0.216824   \n",
       "73775   0.018747  0.042135 -0.982280  ... -0.183696 -0.662870  0.156578   \n",
       "65570  -0.514538 -0.236794 -0.848732  ... -0.069278 -0.308903  0.170349   \n",
       "\n",
       "             V24       V25       V26       V27       V28  Amount  Class  \n",
       "107782  0.443916  0.217429  1.015420 -0.102183  0.043635  224.00      0  \n",
       "51941  -0.310187 -0.022017  0.268366  0.191307  0.190354  433.62      0  \n",
       "204914  0.426419 -0.248222 -0.197360 -0.001199 -0.035223   70.00      0  \n",
       "73775   0.471700  0.182968 -0.295540 -0.012185  0.020821    7.08      0  \n",
       "65570   0.694246  0.196911 -0.502507  0.012611  0.026860    9.99      0  \n",
       "\n",
       "[5 rows x 31 columns]"
      ]
     },
     "execution_count": 19,
     "metadata": {},
     "output_type": "execute_result"
    }
   ],
   "source": [
    "final_data.head()"
   ]
  },
  {
   "cell_type": "code",
   "execution_count": 20,
   "id": "f8387e0c",
   "metadata": {},
   "outputs": [
    {
     "data": {
      "text/plain": [
       "0    492\n",
       "1    492\n",
       "Name: Class, dtype: int64"
      ]
     },
     "execution_count": 20,
     "metadata": {},
     "output_type": "execute_result"
    }
   ],
   "source": [
    "# to check Shape of final data\n",
    "\n",
    "final_data['Class'].value_counts()"
   ]
  },
  {
   "cell_type": "code",
   "execution_count": 21,
   "id": "e39de094",
   "metadata": {},
   "outputs": [
    {
     "data": {
      "text/html": [
       "<div>\n",
       "<style scoped>\n",
       "    .dataframe tbody tr th:only-of-type {\n",
       "        vertical-align: middle;\n",
       "    }\n",
       "\n",
       "    .dataframe tbody tr th {\n",
       "        vertical-align: top;\n",
       "    }\n",
       "\n",
       "    .dataframe thead th {\n",
       "        text-align: right;\n",
       "    }\n",
       "</style>\n",
       "<table border=\"1\" class=\"dataframe\">\n",
       "  <thead>\n",
       "    <tr style=\"text-align: right;\">\n",
       "      <th></th>\n",
       "      <th>Time</th>\n",
       "      <th>V1</th>\n",
       "      <th>V2</th>\n",
       "      <th>V3</th>\n",
       "      <th>V4</th>\n",
       "      <th>V5</th>\n",
       "      <th>V6</th>\n",
       "      <th>V7</th>\n",
       "      <th>V8</th>\n",
       "      <th>V9</th>\n",
       "      <th>...</th>\n",
       "      <th>V20</th>\n",
       "      <th>V21</th>\n",
       "      <th>V22</th>\n",
       "      <th>V23</th>\n",
       "      <th>V24</th>\n",
       "      <th>V25</th>\n",
       "      <th>V26</th>\n",
       "      <th>V27</th>\n",
       "      <th>V28</th>\n",
       "      <th>Amount</th>\n",
       "    </tr>\n",
       "    <tr>\n",
       "      <th>Class</th>\n",
       "      <th></th>\n",
       "      <th></th>\n",
       "      <th></th>\n",
       "      <th></th>\n",
       "      <th></th>\n",
       "      <th></th>\n",
       "      <th></th>\n",
       "      <th></th>\n",
       "      <th></th>\n",
       "      <th></th>\n",
       "      <th></th>\n",
       "      <th></th>\n",
       "      <th></th>\n",
       "      <th></th>\n",
       "      <th></th>\n",
       "      <th></th>\n",
       "      <th></th>\n",
       "      <th></th>\n",
       "      <th></th>\n",
       "      <th></th>\n",
       "      <th></th>\n",
       "    </tr>\n",
       "  </thead>\n",
       "  <tbody>\n",
       "    <tr>\n",
       "      <th>0</th>\n",
       "      <td>94468.197154</td>\n",
       "      <td>0.027098</td>\n",
       "      <td>-0.038052</td>\n",
       "      <td>0.082886</td>\n",
       "      <td>-0.010148</td>\n",
       "      <td>-0.073615</td>\n",
       "      <td>-0.102227</td>\n",
       "      <td>0.045720</td>\n",
       "      <td>0.116437</td>\n",
       "      <td>-0.025698</td>\n",
       "      <td>...</td>\n",
       "      <td>0.005873</td>\n",
       "      <td>-0.009428</td>\n",
       "      <td>-0.022338</td>\n",
       "      <td>0.015423</td>\n",
       "      <td>0.04668</td>\n",
       "      <td>-0.015764</td>\n",
       "      <td>0.023127</td>\n",
       "      <td>0.004793</td>\n",
       "      <td>0.001247</td>\n",
       "      <td>93.214309</td>\n",
       "    </tr>\n",
       "    <tr>\n",
       "      <th>1</th>\n",
       "      <td>80746.806911</td>\n",
       "      <td>-4.771948</td>\n",
       "      <td>3.623778</td>\n",
       "      <td>-7.033281</td>\n",
       "      <td>4.542029</td>\n",
       "      <td>-3.151225</td>\n",
       "      <td>-1.397737</td>\n",
       "      <td>-5.568731</td>\n",
       "      <td>0.570636</td>\n",
       "      <td>-2.581123</td>\n",
       "      <td>...</td>\n",
       "      <td>0.372319</td>\n",
       "      <td>0.713588</td>\n",
       "      <td>0.014049</td>\n",
       "      <td>-0.040308</td>\n",
       "      <td>-0.10513</td>\n",
       "      <td>0.041449</td>\n",
       "      <td>0.051648</td>\n",
       "      <td>0.170575</td>\n",
       "      <td>0.075667</td>\n",
       "      <td>122.211321</td>\n",
       "    </tr>\n",
       "  </tbody>\n",
       "</table>\n",
       "<p>2 rows × 30 columns</p>\n",
       "</div>"
      ],
      "text/plain": [
       "               Time        V1        V2        V3        V4        V5  \\\n",
       "Class                                                                   \n",
       "0      94468.197154  0.027098 -0.038052  0.082886 -0.010148 -0.073615   \n",
       "1      80746.806911 -4.771948  3.623778 -7.033281  4.542029 -3.151225   \n",
       "\n",
       "             V6        V7        V8        V9  ...       V20       V21  \\\n",
       "Class                                          ...                       \n",
       "0     -0.102227  0.045720  0.116437 -0.025698  ...  0.005873 -0.009428   \n",
       "1     -1.397737 -5.568731  0.570636 -2.581123  ...  0.372319  0.713588   \n",
       "\n",
       "            V22       V23      V24       V25       V26       V27       V28  \\\n",
       "Class                                                                        \n",
       "0     -0.022338  0.015423  0.04668 -0.015764  0.023127  0.004793  0.001247   \n",
       "1      0.014049 -0.040308 -0.10513  0.041449  0.051648  0.170575  0.075667   \n",
       "\n",
       "           Amount  \n",
       "Class              \n",
       "0       93.214309  \n",
       "1      122.211321  \n",
       "\n",
       "[2 rows x 30 columns]"
      ]
     },
     "execution_count": 21,
     "metadata": {},
     "output_type": "execute_result"
    }
   ],
   "source": [
    "final_data.groupby('Class').mean()"
   ]
  },
  {
   "cell_type": "code",
   "execution_count": null,
   "id": "f8f78fd6",
   "metadata": {},
   "outputs": [],
   "source": []
  },
  {
   "cell_type": "code",
   "execution_count": 22,
   "id": "87fe8545",
   "metadata": {},
   "outputs": [],
   "source": [
    "#Splitting the data into Features & Targets\n",
    "\n",
    "X= final_data.drop(['Class', 'Time'] , axis=True)\n",
    "y = final_data[\"Class\"]"
   ]
  },
  {
   "cell_type": "code",
   "execution_count": 23,
   "id": "cd9bf5ff",
   "metadata": {},
   "outputs": [
    {
     "data": {
      "text/html": [
       "<div>\n",
       "<style scoped>\n",
       "    .dataframe tbody tr th:only-of-type {\n",
       "        vertical-align: middle;\n",
       "    }\n",
       "\n",
       "    .dataframe tbody tr th {\n",
       "        vertical-align: top;\n",
       "    }\n",
       "\n",
       "    .dataframe thead th {\n",
       "        text-align: right;\n",
       "    }\n",
       "</style>\n",
       "<table border=\"1\" class=\"dataframe\">\n",
       "  <thead>\n",
       "    <tr style=\"text-align: right;\">\n",
       "      <th></th>\n",
       "      <th>V1</th>\n",
       "      <th>V2</th>\n",
       "      <th>V3</th>\n",
       "      <th>V4</th>\n",
       "      <th>V5</th>\n",
       "      <th>V6</th>\n",
       "      <th>V7</th>\n",
       "      <th>V8</th>\n",
       "      <th>V9</th>\n",
       "      <th>V10</th>\n",
       "      <th>...</th>\n",
       "      <th>V20</th>\n",
       "      <th>V21</th>\n",
       "      <th>V22</th>\n",
       "      <th>V23</th>\n",
       "      <th>V24</th>\n",
       "      <th>V25</th>\n",
       "      <th>V26</th>\n",
       "      <th>V27</th>\n",
       "      <th>V28</th>\n",
       "      <th>Amount</th>\n",
       "    </tr>\n",
       "  </thead>\n",
       "  <tbody>\n",
       "    <tr>\n",
       "      <th>107782</th>\n",
       "      <td>0.988362</td>\n",
       "      <td>-1.052426</td>\n",
       "      <td>-0.000363</td>\n",
       "      <td>-0.403608</td>\n",
       "      <td>-1.152150</td>\n",
       "      <td>-1.057656</td>\n",
       "      <td>0.014863</td>\n",
       "      <td>-0.382722</td>\n",
       "      <td>-1.058232</td>\n",
       "      <td>0.579213</td>\n",
       "      <td>...</td>\n",
       "      <td>0.003115</td>\n",
       "      <td>-0.248820</td>\n",
       "      <td>-0.687822</td>\n",
       "      <td>-0.153115</td>\n",
       "      <td>0.443916</td>\n",
       "      <td>0.217429</td>\n",
       "      <td>1.015420</td>\n",
       "      <td>-0.102183</td>\n",
       "      <td>0.043635</td>\n",
       "      <td>224.00</td>\n",
       "    </tr>\n",
       "    <tr>\n",
       "      <th>51941</th>\n",
       "      <td>-1.500506</td>\n",
       "      <td>-0.564856</td>\n",
       "      <td>1.051168</td>\n",
       "      <td>0.248662</td>\n",
       "      <td>-0.744085</td>\n",
       "      <td>1.249198</td>\n",
       "      <td>1.770116</td>\n",
       "      <td>0.310528</td>\n",
       "      <td>-0.436833</td>\n",
       "      <td>-0.755084</td>\n",
       "      <td>...</td>\n",
       "      <td>0.994921</td>\n",
       "      <td>0.182393</td>\n",
       "      <td>0.003597</td>\n",
       "      <td>0.935087</td>\n",
       "      <td>-0.310187</td>\n",
       "      <td>-0.022017</td>\n",
       "      <td>0.268366</td>\n",
       "      <td>0.191307</td>\n",
       "      <td>0.190354</td>\n",
       "      <td>433.62</td>\n",
       "    </tr>\n",
       "    <tr>\n",
       "      <th>204914</th>\n",
       "      <td>2.210017</td>\n",
       "      <td>-1.636144</td>\n",
       "      <td>-1.032963</td>\n",
       "      <td>-1.575280</td>\n",
       "      <td>-1.273889</td>\n",
       "      <td>-0.385047</td>\n",
       "      <td>-1.221281</td>\n",
       "      <td>-0.089451</td>\n",
       "      <td>-0.933635</td>\n",
       "      <td>1.560067</td>\n",
       "      <td>...</td>\n",
       "      <td>-0.356583</td>\n",
       "      <td>-0.163414</td>\n",
       "      <td>-0.148809</td>\n",
       "      <td>0.216824</td>\n",
       "      <td>0.426419</td>\n",
       "      <td>-0.248222</td>\n",
       "      <td>-0.197360</td>\n",
       "      <td>-0.001199</td>\n",
       "      <td>-0.035223</td>\n",
       "      <td>70.00</td>\n",
       "    </tr>\n",
       "    <tr>\n",
       "      <th>73775</th>\n",
       "      <td>1.119963</td>\n",
       "      <td>0.546055</td>\n",
       "      <td>0.877856</td>\n",
       "      <td>2.415833</td>\n",
       "      <td>-0.282554</td>\n",
       "      <td>-0.336366</td>\n",
       "      <td>0.018747</td>\n",
       "      <td>0.042135</td>\n",
       "      <td>-0.982280</td>\n",
       "      <td>0.843286</td>\n",
       "      <td>...</td>\n",
       "      <td>-0.152143</td>\n",
       "      <td>-0.183696</td>\n",
       "      <td>-0.662870</td>\n",
       "      <td>0.156578</td>\n",
       "      <td>0.471700</td>\n",
       "      <td>0.182968</td>\n",
       "      <td>-0.295540</td>\n",
       "      <td>-0.012185</td>\n",
       "      <td>0.020821</td>\n",
       "      <td>7.08</td>\n",
       "    </tr>\n",
       "    <tr>\n",
       "      <th>65570</th>\n",
       "      <td>1.381565</td>\n",
       "      <td>-0.400870</td>\n",
       "      <td>0.718851</td>\n",
       "      <td>-0.590967</td>\n",
       "      <td>-1.253026</td>\n",
       "      <td>-1.231586</td>\n",
       "      <td>-0.514538</td>\n",
       "      <td>-0.236794</td>\n",
       "      <td>-0.848732</td>\n",
       "      <td>0.599477</td>\n",
       "      <td>...</td>\n",
       "      <td>0.081042</td>\n",
       "      <td>-0.069278</td>\n",
       "      <td>-0.308903</td>\n",
       "      <td>0.170349</td>\n",
       "      <td>0.694246</td>\n",
       "      <td>0.196911</td>\n",
       "      <td>-0.502507</td>\n",
       "      <td>0.012611</td>\n",
       "      <td>0.026860</td>\n",
       "      <td>9.99</td>\n",
       "    </tr>\n",
       "  </tbody>\n",
       "</table>\n",
       "<p>5 rows × 29 columns</p>\n",
       "</div>"
      ],
      "text/plain": [
       "              V1        V2        V3        V4        V5        V6        V7  \\\n",
       "107782  0.988362 -1.052426 -0.000363 -0.403608 -1.152150 -1.057656  0.014863   \n",
       "51941  -1.500506 -0.564856  1.051168  0.248662 -0.744085  1.249198  1.770116   \n",
       "204914  2.210017 -1.636144 -1.032963 -1.575280 -1.273889 -0.385047 -1.221281   \n",
       "73775   1.119963  0.546055  0.877856  2.415833 -0.282554 -0.336366  0.018747   \n",
       "65570   1.381565 -0.400870  0.718851 -0.590967 -1.253026 -1.231586 -0.514538   \n",
       "\n",
       "              V8        V9       V10  ...       V20       V21       V22  \\\n",
       "107782 -0.382722 -1.058232  0.579213  ...  0.003115 -0.248820 -0.687822   \n",
       "51941   0.310528 -0.436833 -0.755084  ...  0.994921  0.182393  0.003597   \n",
       "204914 -0.089451 -0.933635  1.560067  ... -0.356583 -0.163414 -0.148809   \n",
       "73775   0.042135 -0.982280  0.843286  ... -0.152143 -0.183696 -0.662870   \n",
       "65570  -0.236794 -0.848732  0.599477  ...  0.081042 -0.069278 -0.308903   \n",
       "\n",
       "             V23       V24       V25       V26       V27       V28  Amount  \n",
       "107782 -0.153115  0.443916  0.217429  1.015420 -0.102183  0.043635  224.00  \n",
       "51941   0.935087 -0.310187 -0.022017  0.268366  0.191307  0.190354  433.62  \n",
       "204914  0.216824  0.426419 -0.248222 -0.197360 -0.001199 -0.035223   70.00  \n",
       "73775   0.156578  0.471700  0.182968 -0.295540 -0.012185  0.020821    7.08  \n",
       "65570   0.170349  0.694246  0.196911 -0.502507  0.012611  0.026860    9.99  \n",
       "\n",
       "[5 rows x 29 columns]"
      ]
     },
     "execution_count": 23,
     "metadata": {},
     "output_type": "execute_result"
    }
   ],
   "source": [
    "X.head()"
   ]
  },
  {
   "cell_type": "code",
   "execution_count": 24,
   "id": "af0a0618",
   "metadata": {},
   "outputs": [
    {
     "data": {
      "text/plain": [
       "107782    0\n",
       "51941     0\n",
       "204914    0\n",
       "73775     0\n",
       "65570     0\n",
       "Name: Class, dtype: int64"
      ]
     },
     "execution_count": 24,
     "metadata": {},
     "output_type": "execute_result"
    }
   ],
   "source": [
    "y.head()"
   ]
  },
  {
   "cell_type": "markdown",
   "id": "3168797c",
   "metadata": {},
   "source": [
    "# Training & Test data"
   ]
  },
  {
   "cell_type": "code",
   "execution_count": 25,
   "id": "13c8cfcf",
   "metadata": {},
   "outputs": [],
   "source": [
    "# import required libraries for training & testing\n",
    "\n",
    "from sklearn.model_selection import train_test_split\n",
    "from sklearn.linear_model import LogisticRegression\n",
    "from sklearn.metrics import accuracy_score"
   ]
  },
  {
   "cell_type": "code",
   "execution_count": 26,
   "id": "b789b78d",
   "metadata": {},
   "outputs": [],
   "source": [
    "X_train, X_test, y_train, y_test = train_test_split(X,y, test_size=0.15 , random_state=5)"
   ]
  },
  {
   "cell_type": "code",
   "execution_count": 27,
   "id": "7a807f9a",
   "metadata": {},
   "outputs": [
    {
     "name": "stdout",
     "output_type": "stream",
     "text": [
      "(984, 29) (836, 29) (148, 29)\n"
     ]
    }
   ],
   "source": [
    "# To check shape of data\n",
    "print(X.shape , X_train.shape, X_test.shape)"
   ]
  },
  {
   "cell_type": "code",
   "execution_count": 28,
   "id": "bd03a389",
   "metadata": {},
   "outputs": [
    {
     "data": {
      "text/plain": [
       "LogisticRegression()"
      ]
     },
     "execution_count": 28,
     "metadata": {},
     "output_type": "execute_result"
    }
   ],
   "source": [
    "# Model Training:- Logistic regression\n",
    "\n",
    "model = LogisticRegression()\n",
    "model"
   ]
  },
  {
   "cell_type": "code",
   "execution_count": 29,
   "id": "33730997",
   "metadata": {},
   "outputs": [
    {
     "data": {
      "text/plain": [
       "LogisticRegression()"
      ]
     },
     "execution_count": 29,
     "metadata": {},
     "output_type": "execute_result"
    }
   ],
   "source": [
    "# Train Model with traing Data\n",
    "\n",
    "model.fit(X_train, y_train)"
   ]
  },
  {
   "cell_type": "code",
   "execution_count": null,
   "id": "6d98cbcd",
   "metadata": {},
   "outputs": [],
   "source": []
  },
  {
   "cell_type": "markdown",
   "id": "f0710a42",
   "metadata": {},
   "source": [
    "# Model Evalution "
   ]
  },
  {
   "cell_type": "code",
   "execution_count": 30,
   "id": "5f9f0de7",
   "metadata": {},
   "outputs": [],
   "source": [
    "# Accuracy on Training dataset\n",
    "\n",
    "X_train_prediction = model.predict(X_train)\n",
    "trainining_data_accuracy = accuracy_score(X_train_prediction , y_train)"
   ]
  },
  {
   "cell_type": "code",
   "execution_count": 31,
   "id": "ac52c75f",
   "metadata": {},
   "outputs": [
    {
     "name": "stdout",
     "output_type": "stream",
     "text": [
      "Accuracy on training data is 0.9557416267942583\n"
     ]
    }
   ],
   "source": [
    "print(\"Accuracy on training data is\" , trainining_data_accuracy)"
   ]
  },
  {
   "cell_type": "code",
   "execution_count": 32,
   "id": "c35a365e",
   "metadata": {},
   "outputs": [],
   "source": [
    "# Accuracy on testing dataset\n",
    "\n",
    "X_test_prediction = model.predict(X_test)\n",
    "testing_data_accuracy = accuracy_score(X_test_prediction,y_test)"
   ]
  },
  {
   "cell_type": "code",
   "execution_count": 33,
   "id": "e316916a",
   "metadata": {},
   "outputs": [
    {
     "name": "stdout",
     "output_type": "stream",
     "text": [
      "Accuracy on testing data is 0.9662162162162162\n"
     ]
    }
   ],
   "source": [
    "print(\"Accuracy on testing data is\" , testing_data_accuracy)"
   ]
  },
  {
   "cell_type": "code",
   "execution_count": null,
   "id": "ff3ffb4c",
   "metadata": {},
   "outputs": [],
   "source": []
  },
  {
   "cell_type": "markdown",
   "id": "f5202cc2",
   "metadata": {},
   "source": [
    "# Predictive Building model"
   ]
  },
  {
   "cell_type": "code",
   "execution_count": 34,
   "id": "106dedbf",
   "metadata": {},
   "outputs": [
    {
     "name": "stdout",
     "output_type": "stream",
     "text": [
      "This is valid Trasaction\n"
     ]
    }
   ],
   "source": [
    "input_data =(-1.359807134,-0.072781173,2.536346738,1.378155224,-0.33832077,\n",
    "             0.462387778,0.239598554,0.098697901,0.36378697,0.090794172,-0.551599533,\n",
    "             -0.617800856,-0.991389847,-0.311169354,1.468176972,-0.470400525,\n",
    "             0.207971242,0.02579058,0.40399296,0.251412098,-0.018306778,0.277837576,\n",
    "             -0.11047391,0.066928075,0.128539358,-0.189114844,0.133558377,-0.021053053,149.62)\n",
    "\n",
    "# data covert into np array\n",
    "\n",
    "input_data_np_array = np.asarray(input_data)\n",
    "\n",
    "#reshape the np array\n",
    "\n",
    "input_data_reshape = input_data_np_array.reshape(1,-1)\n",
    "\n",
    "predication = model.predict(input_data_reshape)\n",
    "predication\n",
    "\n",
    "if predication[0]==0:\n",
    "    print(\"This is valid Trasaction\")\n",
    "else:\n",
    "    print(\"This is Fraudulent Transaction\")"
   ]
  },
  {
   "cell_type": "code",
   "execution_count": null,
   "id": "65ba4101",
   "metadata": {},
   "outputs": [],
   "source": []
  },
  {
   "cell_type": "code",
   "execution_count": 35,
   "id": "87f13a79",
   "metadata": {},
   "outputs": [
    {
     "name": "stdout",
     "output_type": "stream",
     "text": [
      "This is valid Trasaction\n"
     ]
    }
   ],
   "source": [
    "# here only amount value change \n",
    "\n",
    "\n",
    "input_data =(-1.359807134,-0.072781173,2.536346738,1.378155224,-0.33832077,\n",
    "             0.462387778,0.239598554,0.098697901,0.36378697,0.090794172,-0.551599533,\n",
    "             -0.617800856,-0.991389847,-0.311169354,1.468176972,-0.470400525,\n",
    "             0.207971242,0.02579058,0.40399296,0.251412098,-0.018306778,0.277837576,\n",
    "             -0.11047391,0.066928075,0.128539358,-0.189114844,0.133558377,-0.021053053,40000)\n",
    "\n",
    "# data covert into np array\n",
    "\n",
    "input_data_np_array = np.asarray(input_data)\n",
    "\n",
    "#reshape the np array\n",
    "\n",
    "input_data_reshape = input_data_np_array.reshape(1,-1)\n",
    "\n",
    "predication = model.predict(input_data_reshape)\n",
    "predication\n",
    "\n",
    "if predication[0]==0:\n",
    "    print(\"This is valid Trasaction\")\n",
    "else:\n",
    "    print(\"This is Fraudulent Transaction\")"
   ]
  },
  {
   "cell_type": "code",
   "execution_count": null,
   "id": "232c909e",
   "metadata": {},
   "outputs": [],
   "source": []
  }
 ],
 "metadata": {
  "kernelspec": {
   "display_name": "Python 3 (ipykernel)",
   "language": "python",
   "name": "python3"
  },
  "language_info": {
   "codemirror_mode": {
    "name": "ipython",
    "version": 3
   },
   "file_extension": ".py",
   "mimetype": "text/x-python",
   "name": "python",
   "nbconvert_exporter": "python",
   "pygments_lexer": "ipython3",
   "version": "3.9.7"
  }
 },
 "nbformat": 4,
 "nbformat_minor": 5
}
